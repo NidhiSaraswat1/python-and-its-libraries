{
 "cells": [
  {
   "cell_type": "code",
   "execution_count": 1,
   "id": "07d4850b-f3fe-4f92-a8e9-2e17d1f27a89",
   "metadata": {},
   "outputs": [],
   "source": [
    "class Lambo:\n",
    "    pass"
   ]
  },
  {
   "cell_type": "code",
   "execution_count": 2,
   "id": "1cf5c9f1-d2ac-444d-9c8e-08d0a5a5b88e",
   "metadata": {},
   "outputs": [],
   "source": [
    "Aventador = Lambo()"
   ]
  },
  {
   "cell_type": "code",
   "execution_count": 3,
   "id": "62ec5db5-b005-44b6-97ed-abddaec472d7",
   "metadata": {},
   "outputs": [
    {
     "name": "stdout",
     "output_type": "stream",
     "text": [
      "<__main__.Lambo object at 0x0000021324501400>\n"
     ]
    }
   ],
   "source": [
    "print(Aventador)"
   ]
  },
  {
   "cell_type": "code",
   "execution_count": 4,
   "id": "c4d00c0a-b117-4ffc-aab7-d05337084c50",
   "metadata": {},
   "outputs": [
    {
     "name": "stdout",
     "output_type": "stream",
     "text": [
      "<class '__main__.Lambo'>\n"
     ]
    }
   ],
   "source": [
    "print(Lambo)"
   ]
  },
  {
   "cell_type": "markdown",
   "id": "949eb2bc-001f-4bf3-9bcb-4deed980462b",
   "metadata": {},
   "source": [
    "### Constructor"
   ]
  },
  {
   "cell_type": "raw",
   "id": "1d9cb49d-ef4a-4a01-b191-c2457e8d81e0",
   "metadata": {},
   "source": [
    "we use self to map the constructor to call constructor parameters"
   ]
  },
  {
   "cell_type": "code",
   "execution_count": 16,
   "id": "b0ae04d0-7867-4b8e-99ca-d7634aff7964",
   "metadata": {},
   "outputs": [
    {
     "name": "stdout",
     "output_type": "stream",
     "text": [
      "Black\n",
      "240\n",
      "X1\n",
      "My fav car is X1\n",
      "My  car is Black in color\n"
     ]
    }
   ],
   "source": [
    "class Car:\n",
    "    def __init__(self,name,color,hp):\n",
    "        self.name = name\n",
    "        self.color = color\n",
    "        self.hp = hp\n",
    "    def aa(self):\n",
    "        print(f\"My fav car is {self.name}\")\n",
    "\n",
    "    def bb(self):\n",
    "        print(f\"My  car is {self.color} in color\")\n",
    "\n",
    "BMW = Car(\"X1\", 'Black',240)\n",
    "# here we are mapping BMW with car\n",
    "print(BMW.color)\n",
    "print(BMW.hp)\n",
    "print(BMW.name)   \n",
    "\n",
    "BMW.aa()\n",
    "BMW.bb()"
   ]
  },
  {
   "cell_type": "code",
   "execution_count": 21,
   "id": "7eede41e-2825-4aa2-85e7-4709db138408",
   "metadata": {},
   "outputs": [
    {
     "name": "stdout",
     "output_type": "stream",
     "text": [
      "name Inception,genre Action, year 2019\n",
      "name Avengers,genre Action, year 2019\n"
     ]
    }
   ],
   "source": [
    "class Movie:\n",
    "    def __init__(self,name, genre = \"Action\",year = 2019):\n",
    "        self.name = name\n",
    "        self.genre = genre\n",
    "        self.year = year\n",
    "\n",
    "    def display(self):\n",
    "        print(f\"name {self.name},genre {self.genre}, year {self.year}\")        \n",
    "\n",
    "movie1 = Movie(\"Inception\")\n",
    "movie2 = Movie(\"Avengers\")\n",
    "movie1.display()\n",
    "movie2.display()\n",
    " \n",
    "    "
   ]
  },
  {
   "cell_type": "code",
   "execution_count": 23,
   "id": "eff52d3c-e0ff-400d-b2e2-aeadaed137f3",
   "metadata": {},
   "outputs": [
    {
     "name": "stdout",
     "output_type": "stream",
     "text": [
      "current value : 120\n"
     ]
    }
   ],
   "source": [
    "class calci:\n",
    "    def __init__(self,value):\n",
    "        self.value = value\n",
    "\n",
    "    def add(self, num):\n",
    "        self.value += num\n",
    "\n",
    "    def subtract(self,num):\n",
    "        self.value -= num\n",
    "\n",
    "    def display(self):\n",
    "        print(f\"current value : {self.value}\")\n",
    "\n",
    "calc = calci(100)\n",
    "calc.add(50)\n",
    "calc.subtract(30)\n",
    "calc.display()\n"
   ]
  },
  {
   "cell_type": "code",
   "execution_count": 29,
   "id": "5b5a8464-3996-4c59-85b3-c0260ef3a475",
   "metadata": {},
   "outputs": [
    {
     "name": "stdout",
     "output_type": "stream",
     "text": [
      "happy is drinking water\n"
     ]
    }
   ],
   "source": [
    "class moody:\n",
    "    def __init__(self,name,mood = \"happy\"):\n",
    "        self.name = name \n",
    "        self.__mood = mood # ENcapsulating\n",
    "\n",
    "    def currstate(self,name):\n",
    "        if self.__mood == 'happy':\n",
    "            print(f\"{self.name} is drinking water\")\n",
    "\n",
    "        else:\n",
    "            print(f\"{self.name} is sulking and ain't happy\")\n",
    "\n",
    "mood = moody('happy')\n",
    "mood.currstate('angry')\n",
    "\n",
    "\n",
    "    "
   ]
  },
  {
   "cell_type": "markdown",
   "id": "253b7e51-4710-4b00-8d2a-8bca7b58daa8",
   "metadata": {},
   "source": [
    "## ENCAPSULATION"
   ]
  },
  {
   "cell_type": "raw",
   "id": "236b5ddf-1f24-4fb7-ad9c-54b55e09a24d",
   "metadata": {},
   "source": [
    "for security and protection we use encapsualtion.\n",
    "giving single underscore is protected in prefix\n",
    "double (__) is private in the prefix"
   ]
  },
  {
   "cell_type": "code",
   "execution_count": 32,
   "id": "647f430c-8196-4e18-86ef-f03f10d219cd",
   "metadata": {},
   "outputs": [
    {
     "name": "stdout",
     "output_type": "stream",
     "text": [
      "the girl is 24 years old\n"
     ]
    }
   ],
   "source": [
    "class car:\n",
    "    def __init__(self,name = 'girl', age = 24):\n",
    "        self._name = name # this is protected and would not be seen in description.but will print.\n",
    "        self.__age = age # this is private and would not be accessed outside the program.\n",
    "\n",
    "    def description(self):\n",
    "        return f\"the {self._name} is {self.__age} years old\"\n",
    "\n",
    "obj = car()\n",
    "print(obj.description())\n",
    "# print(obj.__age) this will show error"
   ]
  },
  {
   "cell_type": "code",
   "execution_count": null,
   "id": "b9a8946d-27ca-4f34-88b4-5bca6fcfd81f",
   "metadata": {},
   "outputs": [],
   "source": []
  }
 ],
 "metadata": {
  "kernelspec": {
   "display_name": "Python 3 (ipykernel)",
   "language": "python",
   "name": "python3"
  },
  "language_info": {
   "codemirror_mode": {
    "name": "ipython",
    "version": 3
   },
   "file_extension": ".py",
   "mimetype": "text/x-python",
   "name": "python",
   "nbconvert_exporter": "python",
   "pygments_lexer": "ipython3",
   "version": "3.12.4"
  }
 },
 "nbformat": 4,
 "nbformat_minor": 5
}
