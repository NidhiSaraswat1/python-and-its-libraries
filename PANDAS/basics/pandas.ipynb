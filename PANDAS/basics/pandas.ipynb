{
 "cells": [
  {
   "cell_type": "code",
   "execution_count": 7,
   "id": "63e917f2-a68d-49a5-ade5-c09b58144739",
   "metadata": {},
   "outputs": [
    {
     "name": "stdout",
     "output_type": "stream",
     "text": [
      "<class 'pandas.core.series.Series'>\n",
      "a    2.0\n",
      "b    3.0\n",
      "c    4.0\n",
      "d    5.0\n",
      "Name: python, dtype: float64\n",
      "4.0\n"
     ]
    },
    {
     "name": "stderr",
     "output_type": "stream",
     "text": [
      "C:\\Users\\Administrator\\AppData\\Local\\Temp\\ipykernel_1876\\3180921865.py:6: FutureWarning: Series.__getitem__ treating keys as positions is deprecated. In a future version, integer keys will always be treated as labels (consistent with DataFrame behavior). To access a value by position, use `ser.iloc[pos]`\n",
      "  print(var[2])\n"
     ]
    }
   ],
   "source": [
    "import pandas as pd\n",
    "x =[2,3,4,5]\n",
    "var = pd.Series(x, index =['a','b','c','d'], dtype =\"float\", name =\"python\")\n",
    "print(type(var))\n",
    "print(var)\n",
    "print(var[2])"
   ]
  },
  {
   "cell_type": "code",
   "execution_count": 8,
   "id": "5a4e528c-6416-46d8-bdd3-13cbe9ede48d",
   "metadata": {},
   "outputs": [
    {
     "name": "stdout",
     "output_type": "stream",
     "text": [
      "name    [python, java, c++, c]\n",
      "por            [12, 34, 5, 67]\n",
      "dtype: object\n"
     ]
    }
   ],
   "source": [
    "dic ={\"name\":['python','java','c++','c'], \"por\":[12,34,5,67]}\n",
    "var1 = pd.Series(dic)\n",
    "print(var1)\n",
    "      "
   ]
  },
  {
   "cell_type": "code",
   "execution_count": 10,
   "id": "ee8b91c9-75a1-41f3-aa25-fc7e89f64422",
   "metadata": {},
   "outputs": [
    {
     "name": "stdout",
     "output_type": "stream",
     "text": [
      "1    12\n",
      "2    12\n",
      "3    12\n",
      "4    12\n",
      "5    12\n",
      "6    12\n",
      "7    12\n",
      "8    12\n",
      "dtype: int64\n",
      "<class 'pandas.core.series.Series'>\n"
     ]
    }
   ],
   "source": [
    "s = pd.Series(12, index=[1,2,3,4,5,6,7,8])\n",
    "print(s)\n",
    "print(type(s))"
   ]
  },
  {
   "cell_type": "code",
   "execution_count": 11,
   "id": "b12ffdc0-726b-44d3-95a7-66132911f85a",
   "metadata": {},
   "outputs": [
    {
     "name": "stdout",
     "output_type": "stream",
     "text": [
      "1    24.0\n",
      "2    24.0\n",
      "3    24.0\n",
      "4    24.0\n",
      "5     NaN\n",
      "6     NaN\n",
      "7     NaN\n",
      "8     NaN\n",
      "dtype: float64\n"
     ]
    }
   ],
   "source": [
    "s1 = pd.Series(12, index=[1,2,3,4,5,6,7,8])\n",
    "s2 = pd.Series(12, index=[1,2,3,4])\n",
    "print(s1+s2)\n",
    "                         "
   ]
  },
  {
   "cell_type": "code",
   "execution_count": null,
   "id": "d3f2ed99-130c-4db0-b20a-55c5cebbaeba",
   "metadata": {},
   "outputs": [],
   "source": []
  }
 ],
 "metadata": {
  "kernelspec": {
   "display_name": "Python 3 (ipykernel)",
   "language": "python",
   "name": "python3"
  },
  "language_info": {
   "codemirror_mode": {
    "name": "ipython",
    "version": 3
   },
   "file_extension": ".py",
   "mimetype": "text/x-python",
   "name": "python",
   "nbconvert_exporter": "python",
   "pygments_lexer": "ipython3",
   "version": "3.12.4"
  }
 },
 "nbformat": 4,
 "nbformat_minor": 5
}
