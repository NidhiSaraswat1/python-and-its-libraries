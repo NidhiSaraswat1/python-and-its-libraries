{
 "cells": [
  {
   "cell_type": "code",
   "execution_count": 1,
   "id": "e6b55bd8-39ef-4eaf-9ac5-b29071f9b7cd",
   "metadata": {},
   "outputs": [],
   "source": [
    "import pandas as pd\n",
    "import numpy as np\n",
    "import matplotlib.pyplot as plt"
   ]
  },
  {
   "cell_type": "markdown",
   "id": "13357f63-b112-4eb7-8d9a-3872843f7f23",
   "metadata": {},
   "source": [
    "# Global API"
   ]
  },
  {
   "cell_type": "code",
   "execution_count": null,
   "id": "63adc06c-cee0-49b1-9576-7c945c63684c",
   "metadata": {},
   "outputs": [],
   "source": []
  }
 ],
 "metadata": {
  "kernelspec": {
   "display_name": "Python 3 (ipykernel)",
   "language": "python",
   "name": "python3"
  },
  "language_info": {
   "codemirror_mode": {
    "name": "ipython",
    "version": 3
   },
   "file_extension": ".py",
   "mimetype": "text/x-python",
   "name": "python",
   "nbconvert_exporter": "python",
   "pygments_lexer": "ipython3",
   "version": "3.12.4"
  }
 },
 "nbformat": 4,
 "nbformat_minor": 5
}
